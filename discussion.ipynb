{
 "cells": [
  {
   "cell_type": "code",
   "execution_count": 169,
   "metadata": {},
   "outputs": [
    {
     "name": "stdout",
     "output_type": "stream",
     "text": [
      "The autoreload extension is already loaded. To reload it, use:\n",
      "  %reload_ext autoreload\n"
     ]
    }
   ],
   "source": [
    "%load_ext autoreload\n",
    "%autoreload 2"
   ]
  },
  {
   "cell_type": "code",
   "execution_count": 170,
   "metadata": {},
   "outputs": [],
   "source": [
    "import os\n",
    "import re\n",
    "import itertools\n",
    "from tqdm import tqdm\n",
    "import warnings\n",
    "\n",
    "import numpy as np\n",
    "import pandas as pd\n",
    "from scipy import stats\n",
    "\n",
    "import torch\n",
    "from torch.nn import functional as F\n",
    "\n",
    "import sklearn.metrics as metrics\n",
    "import sklearn.preprocessing as prep\n",
    "\n",
    "import matplotlib.pyplot as plt\n",
    "import matplotlib as mpl\n",
    "from matplotlib.lines import Line2D\n",
    "from matplotlib.patches import Patch\n",
    "from matplotlib.colors import rgb_to_hsv,hsv_to_rgb, to_rgb\n",
    "from matplotlib.legend_handler import HandlerTuple\n",
    "\n",
    "from library import architectures, tools, evals, dataset, losses\n",
    "\n",
    "from tensorboard.backend.event_processing.event_accumulator import EventAccumulator"
   ]
  },
  {
   "cell_type": "code",
   "execution_count": 171,
   "metadata": {},
   "outputs": [],
   "source": [
    "def compute_fpr_fnr(eval_res):\n",
    "        \n",
    "    if eval_res.val_gt is None:\n",
    "        res = [{'fpr_nt': 0,'fpr_un':  0,'fnr':  0}]\n",
    "    else:\n",
    "        y_true = eval_res.test_unkn_gt\n",
    "        y_probs = eval_res.test_unkn_probs\n",
    "        y_pred = np.argmax(y_probs, axis=1)\n",
    "\n",
    "        y_true_neg = eval_res.test_neg_gt\n",
    "        y_probs_neg = eval_res.test_neg_probs\n",
    "        y_pred_neg = np.argmax(y_probs_neg, axis=1)\n",
    "        \n",
    "        res = []\n",
    "        classes = [uq for uq in np.unique(y_true) if uq >=0]\n",
    "        for c in classes:\n",
    "            # one-vs-rest\n",
    "            y_true_c = y_true == c\n",
    "            y_pred_c = y_probs[range(len(y_pred)), c] >= 0.5\n",
    "\n",
    "            tmp_res = {}\n",
    "            # FPR - Non-Target\n",
    "            mask_1 = np.logical_or(y_true_c, y_true != -1)\n",
    "            y_true_c_1 = y_true_c[mask_1]\n",
    "            y_pred_c_1 = y_pred_c[mask_1]\n",
    "            tn, fp, fn, tp = metrics.confusion_matrix(y_true_c_1, y_pred_c_1).ravel()\n",
    "            tmp_res['fpr_nt'] = fp/(fp + tn)\n",
    "            tmp_res['fnr'] = fn/(fn + tp)\n",
    "\n",
    "            # FPR - Unknown\n",
    "            mask_2 = np.logical_or(y_true_c, y_true == -1)\n",
    "            y_true_c_2 = y_true_c[mask_2]\n",
    "            y_pred_c_2 = y_pred_c[mask_2]\n",
    "            tn, fp, fn, tp = metrics.confusion_matrix(y_true_c_2, y_pred_c_2).ravel()\n",
    "            tmp_res['fpr_u'] = fp/(fp + tn)\n",
    "\n",
    "\n",
    "            # FPR - Negative\n",
    "            y_true_c = y_true_neg == c\n",
    "            y_pred_c = y_probs_neg[range(len(y_pred_neg)), c] >= 0.5\n",
    "\n",
    "            mask_2 = np.logical_or(y_true_c, y_true_neg == -1)\n",
    "            y_true_c_2 = y_true_c[mask_2]\n",
    "            y_pred_c_2 = y_pred_c[mask_2]\n",
    "            tn, fp, fn, tp = metrics.confusion_matrix(y_true_c_2, y_pred_c_2).ravel()\n",
    "            tmp_res['fpr_n'] = fp/(fp + tn)\n",
    "\n",
    "            res.append(tmp_res)\n",
    "\n",
    "    return res\n",
    "\n",
    "\n",
    "def get_openset_perf(test_gt:np.array, test_probs:np.array, unkn_gt_label=-1, is_verbose=False):\n",
    "\n",
    "    # vary thresholds\n",
    "    ccr, fpr = [], []\n",
    "    kn_probs = test_probs[test_gt != unkn_gt_label]\n",
    "    unkn_probs = test_probs[test_gt == unkn_gt_label]\n",
    "    gt = test_gt[test_gt != unkn_gt_label]\n",
    "\n",
    "    # Get CCR and FPR\n",
    "    thresholds = sorted(np.append(kn_probs[range(len(gt)),gt], np.max(unkn_probs, axis=1)))\n",
    "    for tau in tqdm(thresholds, miniters=int(len(gt)/5), maxinterval=600, disable=not is_verbose):\n",
    "        # correct classification rate\n",
    "        ccr.append(np.sum(np.logical_and(\n",
    "            np.argmax(kn_probs, axis=1) == gt,\n",
    "            kn_probs[range(len(gt)),gt] >= tau\n",
    "        )) / len(kn_probs))\n",
    "        # false positive rate for validation and test set\n",
    "        fpr.append(np.sum(np.max(unkn_probs, axis=1) >= tau) / len(unkn_probs))\n",
    "    \n",
    "    # Get URR and OSA\n",
    "    alpha = sum(test_gt != unkn_gt_label) / len(test_gt)\n",
    "    urr = [1-v for v in fpr]\n",
    "    osa = [alpha * c + (1-alpha) * u for c,u in zip(ccr,urr)]\n",
    "\n",
    "    return (ccr, fpr, urr, osa, thresholds)\n"
   ]
  },
  {
   "cell_type": "markdown",
   "metadata": {},
   "source": [
    "# Large Scale Setting"
   ]
  },
  {
   "cell_type": "markdown",
   "metadata": {},
   "source": [
    "## Init"
   ]
  },
  {
   "cell_type": "code",
   "execution_count": 172,
   "metadata": {},
   "outputs": [],
   "source": [
    "SCALE = 'LargeScale'\n",
    "ARCHITECTURE = 'ResNet_50'  \n",
    "\n",
    "#### Evaluation data from OvR\n",
    "ovr_data_info_1 = [\n",
    "        {'info':[f\"{SCALE}_1\", '_RQ1', f'{ARCHITECTURE}_neg_0', 'OvR'], 'label': 'OvR'},\n",
    "        {'info':[f\"{SCALE}_2\", '_RQ1', f'{ARCHITECTURE}_neg_0', 'OvR'], 'label': 'OvR'},\n",
    "        {'info':[f\"{SCALE}_3\", '_RQ1', f'{ARCHITECTURE}_neg_0', 'OvR'], 'label': 'OvR'},\n",
    "]\n",
    "ovr_data_info_2_T = [\n",
    "    {\n",
    "        'C':[{'info':[f\"{SCALE}_1\", '_RQ2', f'{ARCHITECTURE}_C_neg_0_b', 'OvR'], 'label': 'OvR-C (b)'},\n",
    "             {'info':[f\"{SCALE}_1\", '_RQ2', f'{ARCHITECTURE}_C_neg_0_g', 'OvR'], 'label': 'OvR-C (g)'},],\n",
    "        'F':[{'info':[f\"{SCALE}_1\", '_RQ2', f'{ARCHITECTURE}_F_neg_0_1', 'OvR'], 'label': 'OvR-F (1)'},\n",
    "             {'info':[f\"{SCALE}_1\", '_RQ2', f'{ARCHITECTURE}_F_neg_0_2', 'OvR'], 'label': 'OvR-F (2)'},\n",
    "             {'info':[f\"{SCALE}_1\", '_RQ2', f'{ARCHITECTURE}_F_neg_0_3', 'OvR'], 'label': 'OvR-F (3)'},],\n",
    "        'M':[{'info':[f\"{SCALE}_1\", '_RQ2', f'{ARCHITECTURE}_M_neg_0_02', 'OvR'], 'label': 'OvR-H (0.2)'},\n",
    "             {'info':[f\"{SCALE}_1\", '_RQ2', f'{ARCHITECTURE}_M_neg_0_06', 'OvR'], 'label': 'OvR-H (0.6)'},]\n",
    "    },\n",
    "    {\n",
    "        'C':[{'info':[f\"{SCALE}_2\", '_RQ2', f'{ARCHITECTURE}_C_neg_0_b', 'OvR'], 'label': 'OvR-C (b)'},\n",
    "             {'info':[f\"{SCALE}_2\", '_RQ2', f'{ARCHITECTURE}_C_neg_0_g', 'OvR'], 'label': 'OvR-C (g)'},],\n",
    "        'F':[{'info':[f\"{SCALE}_2\", '_RQ2', f'{ARCHITECTURE}_F_neg_0_1', 'OvR'], 'label': 'OvR-F (1)'},\n",
    "             {'info':[f\"{SCALE}_2\", '_RQ2', f'{ARCHITECTURE}_F_neg_0_2', 'OvR'], 'label': 'OvR-F (2)'},\n",
    "             {'info':[f\"{SCALE}_2\", '_RQ2', f'{ARCHITECTURE}_F_neg_0_3', 'OvR'], 'label': 'OvR-F (3)'},],\n",
    "        'M':[{'info':[f\"{SCALE}_2\", '_RQ2', f'{ARCHITECTURE}_M_neg_0_02', 'OvR'], 'label': 'OvR-H (0.2)'},\n",
    "             {'info':[f\"{SCALE}_2\", '_RQ2', f'{ARCHITECTURE}_M_neg_0_06', 'OvR'], 'label': 'OvR-H (0.6)'},]\n",
    "    },\n",
    "    {\n",
    "        'C':[{'info':[f\"{SCALE}_3\", '_RQ2', f'{ARCHITECTURE}_C_neg_0_b', 'OvR'], 'label': 'OvR-C (b)'},\n",
    "             {'info':[f\"{SCALE}_3\", '_RQ2', f'{ARCHITECTURE}_C_neg_0_g', 'OvR'], 'label': 'OvR-C (g)'},],\n",
    "        'F':[{'info':[f\"{SCALE}_3\", '_RQ2', f'{ARCHITECTURE}_F_neg_0_1', 'OvR'], 'label': 'OvR-F (1)'},\n",
    "             {'info':[f\"{SCALE}_3\", '_RQ2', f'{ARCHITECTURE}_F_neg_0_2', 'OvR'], 'label': 'OvR-F (2)'},\n",
    "             {'info':[f\"{SCALE}_3\", '_RQ2', f'{ARCHITECTURE}_F_neg_0_3', 'OvR'], 'label': 'OvR-F (3)'},],\n",
    "        'M':[{'info':[f\"{SCALE}_3\", '_RQ2', f'{ARCHITECTURE}_M_neg_0_02', 'OvR'], 'label': 'OvR-H (0.2)'},\n",
    "             {'info':[f\"{SCALE}_3\", '_RQ2', f'{ARCHITECTURE}_M_neg_0_06', 'OvR'], 'label': 'OvR-H (0.6)'},]\n",
    "    },\n",
    "]\n",
    "ovr_data_info_3_T =[\n",
    "    {\n",
    "        'base': [{'info':[f\"{SCALE}_1\", '_RQ3', f'{ARCHITECTURE}_neg_All', 'OvR'], 'label': 'OvR-C (b w/ neg)'}],\n",
    "        'C' : [{'info':[f\"{SCALE}_1\", '_RQ3', f'{ARCHITECTURE}_C_neg_All_b', 'OvR'], 'label': 'OvR-C (b w/ neg)'},\n",
    "               {'info':[f\"{SCALE}_1\", '_RQ3', f'{ARCHITECTURE}_C_neg_All_g', 'OvR'], 'label': 'OvR-C (g w/ neg)'},],\n",
    "        'F' : [{'info':[f\"{SCALE}_1\", '_RQ3', f'{ARCHITECTURE}_F_neg_All_1', 'OvR'], 'label': 'OvR-F (1 w/ neg)'},\n",
    "               {'info':[f\"{SCALE}_1\", '_RQ3', f'{ARCHITECTURE}_F_neg_All_2', 'OvR'], 'label': 'OvR-F (2 w/ neg)'},\n",
    "               {'info':[f\"{SCALE}_1\", '_RQ3', f'{ARCHITECTURE}_F_neg_All_3', 'OvR'], 'label': 'OvR-F (3 w/ neg)'},],\n",
    "        'M' : [{'info':[f\"{SCALE}_1\", '_RQ3', f'{ARCHITECTURE}_M_neg_All_02', 'OvR'], 'label': 'OvR-H (0.4 w/ neg)'},\n",
    "               {'info':[f\"{SCALE}_1\", '_RQ3', f'{ARCHITECTURE}_M_neg_All_06', 'OvR'], 'label': 'OvR-H (0.6 w/ neg)'},]\n",
    "    },\n",
    "    {\n",
    "        'base': [{'info':[f\"{SCALE}_2\", '_RQ3', f'{ARCHITECTURE}_neg_All', 'OvR'], 'label': 'OvR-C (b w/ neg)'}],\n",
    "        'C' : [{'info':[f\"{SCALE}_2\", '_RQ3', f'{ARCHITECTURE}_C_neg_All_b', 'OvR'], 'label': 'OvR-C (b w/ neg)'},\n",
    "               {'info':[f\"{SCALE}_2\", '_RQ3', f'{ARCHITECTURE}_C_neg_All_g', 'OvR'], 'label': 'OvR-C (g w/ neg)'},],\n",
    "        'F' : [{'info':[f\"{SCALE}_2\", '_RQ3', f'{ARCHITECTURE}_F_neg_All_1', 'OvR'], 'label': 'OvR-F (1 w/ neg)'},\n",
    "               {'info':[f\"{SCALE}_2\", '_RQ3', f'{ARCHITECTURE}_F_neg_All_2', 'OvR'], 'label': 'OvR-F (2 w/ neg)'},\n",
    "               {'info':[f\"{SCALE}_2\", '_RQ3', f'{ARCHITECTURE}_F_neg_All_3', 'OvR'], 'label': 'OvR-F (3 w/ neg)'},],\n",
    "        'M' : [{'info':[f\"{SCALE}_2\", '_RQ3', f'{ARCHITECTURE}_M_neg_All_02', 'OvR'], 'label': 'OvR-H (0.4 w/ neg)'},\n",
    "               {'info':[f\"{SCALE}_2\", '_RQ3', f'{ARCHITECTURE}_M_neg_All_06', 'OvR'], 'label': 'OvR-H (0.6 w/ neg)'},]\n",
    "    },\n",
    "    {\n",
    "        'base': [{'info':[f\"{SCALE}_3\", '_RQ3', f'{ARCHITECTURE}_neg_All', 'OvR'], 'label': 'OvR-C (b w/ neg)'}],\n",
    "        'C' : [{'info':[f\"{SCALE}_3\", '_RQ3', f'{ARCHITECTURE}_C_neg_All_b', 'OvR'], 'label': 'OvR-C (b w/ neg)'},\n",
    "               {'info':[f\"{SCALE}_3\", '_RQ3', f'{ARCHITECTURE}_C_neg_All_g', 'OvR'], 'label': 'OvR-C (g w/ neg)'},],\n",
    "        'F' : [{'info':[f\"{SCALE}_3\", '_RQ3', f'{ARCHITECTURE}_F_neg_All_1', 'OvR'], 'label': 'OvR-F (1 w/ neg)'},\n",
    "               {'info':[f\"{SCALE}_3\", '_RQ3', f'{ARCHITECTURE}_F_neg_All_2', 'OvR'], 'label': 'OvR-F (2 w/ neg)'},\n",
    "               {'info':[f\"{SCALE}_3\", '_RQ3', f'{ARCHITECTURE}_F_neg_All_3', 'OvR'], 'label': 'OvR-F (3 w/ neg)'},],\n",
    "        'M' : [{'info':[f\"{SCALE}_3\", '_RQ3', f'{ARCHITECTURE}_M_neg_All_02', 'OvR'], 'label': 'OvR-H (0.4 w/ neg)'},\n",
    "               {'info':[f\"{SCALE}_3\", '_RQ3', f'{ARCHITECTURE}_M_neg_All_06', 'OvR'], 'label': 'OvR-H (0.6 w/ neg)'},]\n",
    "    },\n",
    "]"
   ]
  },
  {
   "cell_type": "markdown",
   "metadata": {},
   "source": [
    "## Test"
   ]
  },
  {
   "cell_type": "code",
   "execution_count": 173,
   "metadata": {},
   "outputs": [],
   "source": [
    "PROTOCOL = 2"
   ]
  },
  {
   "cell_type": "code",
   "execution_count": 174,
   "metadata": {},
   "outputs": [
    {
     "name": "stdout",
     "output_type": "stream",
     "text": [
      "['LargeScale_2', '_RQ1', 'ResNet_50_neg_0', 'OvR']\n",
      "['LargeScale_2', '_RQ2', 'ResNet_50_C_neg_0_g', 'OvR']\n",
      "['LargeScale_2', '_RQ2', 'ResNet_50_F_neg_0_1', 'OvR']\n",
      "['LargeScale_2', '_RQ2', 'ResNet_50_M_neg_0_02', 'OvR']\n"
     ]
    }
   ],
   "source": [
    "no_neg_data_info = []\n",
    "no_neg_data_info.append(ovr_data_info_1[PROTOCOL-1])\n",
    "no_neg_data_info.append(ovr_data_info_2_T[PROTOCOL-1]['C'][1])\n",
    "no_neg_data_info.append(ovr_data_info_2_T[PROTOCOL-1]['F'][0])\n",
    "no_neg_data_info.append(ovr_data_info_2_T[PROTOCOL-1]['M'][0])\n",
    "\n",
    "for idx in range(len(no_neg_data_info)):\n",
    "    print(no_neg_data_info[idx]['info'])"
   ]
  },
  {
   "cell_type": "code",
   "execution_count": 175,
   "metadata": {},
   "outputs": [
    {
     "name": "stdout",
     "output_type": "stream",
     "text": [
      "['LargeScale_2', '_RQ3', 'ResNet_50_neg_All', 'OvR']\n",
      "['LargeScale_2', '_RQ3', 'ResNet_50_C_neg_All_b', 'OvR']\n",
      "['LargeScale_2', '_RQ3', 'ResNet_50_F_neg_All_3', 'OvR']\n",
      "['LargeScale_2', '_RQ3', 'ResNet_50_M_neg_All_02', 'OvR']\n"
     ]
    }
   ],
   "source": [
    "neg_data_info = []\n",
    "neg_data_info.append(ovr_data_info_3_T[PROTOCOL-1]['base'][0])\n",
    "neg_data_info.append(ovr_data_info_3_T[PROTOCOL-1]['C'][0])\n",
    "neg_data_info.append(ovr_data_info_3_T[PROTOCOL-1]['F'][2])\n",
    "neg_data_info.append(ovr_data_info_3_T[PROTOCOL-1]['M'][0])\n",
    "\n",
    "for idx in range(len(neg_data_info)):\n",
    "    print(neg_data_info[idx]['info'])"
   ]
  },
  {
   "cell_type": "code",
   "execution_count": 176,
   "metadata": {},
   "outputs": [],
   "source": [
    "for idx, d_i in enumerate(neg_data_info[:1]):\n",
    "\n",
    "    info = d_i['info']\n",
    "    \n",
    "    root_path = f'/home/user/hkim/UZH-MT/openset-binary/_results/{info[0]}/_s42/{info[1]}/eval_{info[2]}/{info[3]}'\n",
    "    eval_res = evals.eval_results(root_path)\n",
    "\n",
    "    eval_res.test_neg_gt\n",
    "    eval_res.test_neg_logits\n",
    "    eval_res.test_neg_probs\n",
    "\n",
    "    eval_res.test_unkn_gt\n",
    "    eval_res.test_unkn_logits\n",
    "    eval_res.test_unkn_probs\n",
    "\n",
    "    # (ccr, fpr, urr, osa, thresholds) = get_openset_perf(eval_res.test_neg_gt,\n",
    "    #                                                     eval_res.test_neg_probs,\n",
    "    #                                                     is_verbose=True)\n",
    "    \n",
    "    # fpr_fnr_res = compute_fpr_fnr(eval_res)\n",
    "    # oosa = evals.compute_oosa(eval_res.val_thrs, eval_res.val_osa, \n",
    "    #                     eval_res.test_neg_thrs, eval_res.test_neg_osa, \n",
    "    #                     eval_res.test_unkn_thrs, eval_res.test_unkn_osa)\n",
    "\n"
   ]
  },
  {
   "cell_type": "code",
   "execution_count": 179,
   "metadata": {},
   "outputs": [],
   "source": [
    "c = 0\n",
    "\n",
    "target_mask = eval_res.test_neg_gt == c\n",
    "neg_mask = eval_res.test_neg_gt == -1\n",
    "non_target_mask = np.logical_and(~target_mask, ~neg_mask)\n",
    "\n",
    "logits = eval_res.test_neg_logits.copy()\n",
    "target_logtis = logits[target_mask, c]\n",
    "neg_logtis = logits[neg_mask, c]\n",
    "non_target_logtis = logits[non_target_mask, c]"
   ]
  },
  {
   "cell_type": "code",
   "execution_count": 182,
   "metadata": {},
   "outputs": [
    {
     "data": {
      "text/plain": [
       "(-0.14503135412931442, -21.701215419230923, -18.91772664421591)"
      ]
     },
     "execution_count": 182,
     "metadata": {},
     "output_type": "execute_result"
    }
   ],
   "source": [
    "np.mean(target_logtis), np.mean(neg_logtis), np.mean(non_target_logtis)"
   ]
  },
  {
   "cell_type": "code",
   "execution_count": 183,
   "metadata": {},
   "outputs": [],
   "source": [
    "target_logits_hist, _ = np.histogram(target_logtis)"
   ]
  },
  {
   "cell_type": "code",
   "execution_count": 186,
   "metadata": {},
   "outputs": [
    {
     "data": {
      "text/plain": [
       "(array([  2.,   1.,   0.,   1.,   3.,  16., 147., 629., 565.,  86.]),\n",
       " array([-101.50521088,  -90.99782872,  -80.49044657,  -69.98306441,\n",
       "         -59.47568226,  -48.9683001 ,  -38.46091795,  -27.9535358 ,\n",
       "         -17.44615364,   -6.93877149,    3.56861067]),\n",
       " <BarContainer object of 10 artists>)"
      ]
     },
     "execution_count": 186,
     "metadata": {},
     "output_type": "execute_result"
    },
    {
     "data": {
      "image/png": "[encoded data removed]",
      "text/plain": [
       "<Figure size 640x480 with 1 Axes>"
      ]
     },
     "metadata": {},
     "output_type": "display_data"
    }
   ],
   "source": [
    "plt.hist(target_logtis)\n",
    "plt.hist(neg_logtis)\n",
    "plt.hist(non_target_logtis)"
   ]
  },
  {
   "cell_type": "code",
   "execution_count": null,
   "metadata": {},
   "outputs": [],
   "source": []
  }
 ],
 "metadata": {
  "kernelspec": {
   "display_name": "os-multi-binary",
   "language": "python",
   "name": "python3"
  },
  "language_info": {
   "codemirror_mode": {
    "name": "ipython",
    "version": 3
   },
   "file_extension": ".py",
   "mimetype": "text/x-python",
   "name": "python",
   "nbconvert_exporter": "python",
   "pygments_lexer": "ipython3",
   "version": "3.10.14"
  }
 },
 "nbformat": 4,
 "nbformat_minor": 2
}
