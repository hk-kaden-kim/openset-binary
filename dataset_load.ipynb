{
 "cells": [
  {
   "cell_type": "code",
   "execution_count": 1,
   "metadata": {},
   "outputs": [],
   "source": [
    "%load_ext autoreload\n",
    "%autoreload 2"
   ]
  },
  {
   "cell_type": "code",
   "execution_count": 2,
   "metadata": {},
   "outputs": [],
   "source": [
    "import torch\n",
    "import torchvision\n",
    "import torchvision.transforms as transforms\n",
    "from torch.utils.tensorboard import SummaryWriter\n",
    "from torch.nn import functional as F\n",
    "import torch.nn as nn\n",
    "import torch.optim as optim\n",
    "\n",
    "from library import architectures, tools, losses, dataset\n",
    "\n",
    "import pathlib\n",
    "\n",
    "import time # EDITTED:\n",
    "\n",
    "import numpy as np"
   ]
  },
  {
   "cell_type": "code",
   "execution_count": 3,
   "metadata": {},
   "outputs": [],
   "source": [
    "def check_dataset(split_ratio, train_emnist, val_emnist, test_neg_emnist, test_unkn_emnist):\n",
    "    \n",
    "    split_ratio_out = len(train_emnist)/(len(train_emnist)+len(val_emnist))\n",
    "    assert split_ratio_out==split_ratio, f\"{split_ratio_out} =! {split_ratio}\"\n",
    "\n",
    "    print(f\"# of train: {len(train_emnist)}\")\n",
    "    print(f\"Train include Negatives? {len(train_emnist.datasets)>1}\")\n",
    "    if len(train_emnist.datasets)>1:\n",
    "        idxs = np.random.randint(len(train_emnist.datasets[1]), size=3)\n",
    "        print(f\"\\tTrain Neg. examples: {[train_emnist.datasets[1].check(i) for i in idxs]}\")\n",
    "    print(f\"Train set: {[(subdt.dataset.split, len(subdt.indices), np.unique(subdt.dataset.targets[subdt.indices]).tolist()) for subdt in train_emnist.datasets]}\")\n",
    "\n",
    "    print()\n",
    "\n",
    "    print(f\"# of val: {len(val_emnist)}\")\n",
    "    print(f\"Val include Negatives? {len(val_emnist.datasets)>1}\")\n",
    "    if len(val_emnist.datasets)>1:\n",
    "        idxs = np.random.randint(len(val_emnist.datasets[1]), size=3)\n",
    "        print(f\"\\tVal Neg. examples: {[val_emnist.datasets[1].check(i) for i in idxs]}\")\n",
    "    print(f\"Val set: {[(subdt.dataset.split, len(subdt.indices), np.unique(subdt.dataset.targets[subdt.indices]).tolist()) for subdt in val_emnist.datasets]}\")\n",
    "\n",
    "    print()\n",
    "\n",
    "    print(f\"# of kn-unkn test: {len(test_neg_emnist)}\")\n",
    "    print(f\"Test include Unknowns? {len(test_neg_emnist.datasets)>1}\")\n",
    "    if len(test_neg_emnist.datasets)>1:\n",
    "        idxs = np.random.randint(len(test_neg_emnist.datasets[1]), size=3)\n",
    "        print(f\"\\tTest kn-unkn examples: {[test_neg_emnist.datasets[1].check(i) for i in idxs]}\")\n",
    "    print(f\"Test set: {[(subdt.dataset.split, len(subdt.indices), np.unique(subdt.dataset.targets[subdt.indices]).tolist()) for subdt in test_neg_emnist.datasets]}\")\n",
    "\n",
    "    print()\n",
    "\n",
    "    print(f\"# of unkn-unkn test: {len(test_unkn_emnist)}\")\n",
    "    print(f\"Test include Unknowns? {len(test_unkn_emnist.datasets)>1}\")\n",
    "    if len(test_unkn_emnist.datasets)>1:\n",
    "        idxs = np.random.randint(len(test_unkn_emnist.datasets[1]), size=3)\n",
    "        print(f\"\\tTest unkn-unkn examples: {[test_unkn_emnist.datasets[1].check(i) for i in idxs]}\")\n",
    "    print(f\"Test set: {[(subdt.dataset.split, len(subdt.indices), np.unique(subdt.dataset.targets[subdt.indices]).tolist()) for subdt in test_unkn_emnist.datasets]}\")"
   ]
  },
  {
   "cell_type": "code",
   "execution_count": 4,
   "metadata": {},
   "outputs": [],
   "source": [
    "dataset_root = '/cluster/scratch/khyeongkyun/UZH-MT/data'\n",
    "split_ratio = 0.8"
   ]
  },
  {
   "cell_type": "markdown",
   "metadata": {},
   "source": [
    "## Case 1. Dataset Call w/o using Negatives in training"
   ]
  },
  {
   "cell_type": "code",
   "execution_count": 5,
   "metadata": {},
   "outputs": [
    {
     "name": "stdout",
     "output_type": "stream",
     "text": [
      "# of train: 48000\n",
      "Train include Negatives? False\n",
      "Train set: [('mnist', 48000, [0, 1, 2, 3, 4, 5, 6, 7, 8, 9])]\n",
      "\n",
      "# of val: 12000\n",
      "Val include Negatives? False\n",
      "Val set: [('mnist', 12000, [0, 1, 2, 3, 4, 5, 6, 7, 8, 9])]\n",
      "\n",
      "# of kn-unkn test: 18800\n",
      "Test include Unknowns? True\n",
      "\tTest kn-unkn examples: [(4237, 6, -1), (3957, 5, -1), (360, 1, -1)]\n",
      "Test set: [('mnist', 10000, [0, 1, 2, 3, 4, 5, 6, 7, 8, 9]), ('letters', 8800, [1, 2, 3, 4, 5, 6, 8, 10, 11, 13, 14])]\n",
      "\n",
      "# of unkn-unkn test: 18800\n",
      "Test include Unknowns? True\n",
      "\tTest unkn-unkn examples: [(1799, 18, -1), (7609, 25, -1), (1000, 17, -1)]\n",
      "Test set: [('mnist', 10000, [0, 1, 2, 3, 4, 5, 6, 7, 8, 9]), ('letters', 8800, [16, 17, 18, 19, 20, 21, 22, 23, 24, 25, 26])]\n"
     ]
    }
   ],
   "source": [
    "emnist = dataset.EMNIST(dataset_root)\n",
    "train_emnist, val_emnist = emnist.get_train_set(split_ratio)\n",
    "test_emnist, test_neg_emnist, test_unkn_emnist = emnist.get_test_set()\n",
    "\n",
    "check_dataset(split_ratio, train_emnist, val_emnist, test_neg_emnist, test_unkn_emnist)\n"
   ]
  },
  {
   "cell_type": "markdown",
   "metadata": {},
   "source": [
    "## Case 2. Dataset Call with using Negatives in training."
   ]
  },
  {
   "cell_type": "code",
   "execution_count": 6,
   "metadata": {},
   "outputs": [
    {
     "name": "stdout",
     "output_type": "stream",
     "text": [
      "# of train: 90240\n",
      "Train include Negatives? True\n",
      "\tTrain Neg. examples: [(36106, 14, -1), (10267, 11, -1), (19997, 13, -1)]\n",
      "Train set: [('mnist', 48000, [0, 1, 2, 3, 4, 5, 6, 7, 8, 9]), ('letters', 42240, [1, 2, 3, 4, 5, 6, 8, 10, 11, 13, 14])]\n",
      "\n",
      "# of val: 22560\n",
      "Val include Negatives? True\n",
      "\tVal Neg. examples: [(5300, 2, -1), (1908, 6, -1), (10127, 4, -1)]\n",
      "Val set: [('mnist', 12000, [0, 1, 2, 3, 4, 5, 6, 7, 8, 9]), ('letters', 10560, [1, 2, 3, 4, 5, 6, 8, 10, 11, 13, 14])]\n",
      "\n",
      "# of kn-unkn test: 18800\n",
      "Test include Unknowns? True\n",
      "\tTest kn-unkn examples: [(6222, 10, -1), (296, 1, -1), (2063, 3, -1)]\n",
      "Test set: [('mnist', 10000, [0, 1, 2, 3, 4, 5, 6, 7, 8, 9]), ('letters', 8800, [1, 2, 3, 4, 5, 6, 8, 10, 11, 13, 14])]\n",
      "\n",
      "# of unkn-unkn test: 18800\n",
      "Test include Unknowns? True\n",
      "\tTest unkn-unkn examples: [(3187, 19, -1), (4509, 21, -1), (2186, 18, -1)]\n",
      "Test set: [('mnist', 10000, [0, 1, 2, 3, 4, 5, 6, 7, 8, 9]), ('letters', 8800, [16, 17, 18, 19, 20, 21, 22, 23, 24, 25, 26])]\n"
     ]
    }
   ],
   "source": [
    "emnist = dataset.EMNIST(dataset_root)\n",
    "train_emnist, val_emnist = emnist.get_train_set(split_ratio, include_negatives=True)\n",
    "test_emnist, test_neg_emnist, test_unkn_emnist = emnist.get_test_set()\n",
    "\n",
    "check_dataset(split_ratio, train_emnist, val_emnist, test_neg_emnist, test_unkn_emnist)"
   ]
  },
  {
   "cell_type": "markdown",
   "metadata": {},
   "source": [
    "## Case 3. Dataset Call with using Negatives in training and having background class"
   ]
  },
  {
   "cell_type": "code",
   "execution_count": 7,
   "metadata": {},
   "outputs": [
    {
     "name": "stdout",
     "output_type": "stream",
     "text": [
      "# of train: 90240\n",
      "Train include Negatives? True\n",
      "\tTrain Neg. examples: [(1688, 8, 10), (32803, 5, 10), (2511, 6, 10)]\n",
      "Train set: [('mnist', 48000, [0, 1, 2, 3, 4, 5, 6, 7, 8, 9]), ('letters', 42240, [1, 2, 3, 4, 5, 6, 8, 10, 11, 13, 14])]\n",
      "\n",
      "# of val: 22560\n",
      "Val include Negatives? True\n",
      "\tVal Neg. examples: [(8499, 8, 10), (3295, 6, 10), (1690, 2, 10)]\n",
      "Val set: [('mnist', 12000, [0, 1, 2, 3, 4, 5, 6, 7, 8, 9]), ('letters', 10560, [1, 2, 3, 4, 5, 6, 8, 10, 11, 13, 14])]\n",
      "\n",
      "# of kn-unkn test: 18800\n",
      "Test include Unknowns? True\n",
      "\tTest kn-unkn examples: [(4627, 6, 10), (550, 1, 10), (8204, 14, 10)]\n",
      "Test set: [('mnist', 10000, [0, 1, 2, 3, 4, 5, 6, 7, 8, 9]), ('letters', 8800, [1, 2, 3, 4, 5, 6, 8, 10, 11, 13, 14])]\n",
      "\n",
      "# of unkn-unkn test: 18800\n",
      "Test include Unknowns? True\n",
      "\tTest unkn-unkn examples: [(2500, 19, 10), (4655, 21, 10), (1826, 18, 10)]\n",
      "Test set: [('mnist', 10000, [0, 1, 2, 3, 4, 5, 6, 7, 8, 9]), ('letters', 8800, [16, 17, 18, 19, 20, 21, 22, 23, 24, 25, 26])]\n"
     ]
    }
   ],
   "source": [
    "emnist = dataset.EMNIST(dataset_root)\n",
    "train_emnist, val_emnist = emnist.get_train_set(split_ratio, include_negatives=True, has_background_class=True)\n",
    "test_emnist, test_neg_emnist, test_unkn_emnist = emnist.get_test_set(has_background_class=True)\n",
    "\n",
    "check_dataset(split_ratio, train_emnist, val_emnist, test_neg_emnist, test_unkn_emnist)"
   ]
  },
  {
   "cell_type": "markdown",
   "metadata": {},
   "source": [
    "# Archieve"
   ]
  }
 ],
 "metadata": {
  "kernelspec": {
   "display_name": "eos-example",
   "language": "python",
   "name": "python3"
  },
  "language_info": {
   "codemirror_mode": {
    "name": "ipython",
    "version": 3
   },
   "file_extension": ".py",
   "mimetype": "text/x-python",
   "name": "python",
   "nbconvert_exporter": "python",
   "pygments_lexer": "ipython3",
   "version": "3.10.14"
  }
 },
 "nbformat": 4,
 "nbformat_minor": 2
}
